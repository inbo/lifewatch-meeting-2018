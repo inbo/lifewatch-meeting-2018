{
 "cells": [
  {
   "cell_type": "markdown",
   "metadata": {
    "slideshow": {
     "slide_type": "slide"
    }
   },
   "source": [
    "# Waterinfo"
   ]
  },
  {
   "cell_type": "markdown",
   "metadata": {
    "slideshow": {
     "slide_type": "fragment"
    }
   },
   "source": [
    "<div class=\"alert alert-info\" style=\"line-height: 1.5em;\">\n",
    "<b>Situation</b>: <br>\n",
    "I want to know the wind speed during my last measurement campaign in Overpelt from 1 October 2017 till 30 November 2017.\n",
    "<br>\n",
    "</div>"
   ]
  },
  {
   "cell_type": "markdown",
   "metadata": {
    "slideshow": {
     "slide_type": "slide"
    }
   },
   "source": [
    "[VMM - Waterinfo](https://www.waterinfo.be/) provides those data for Flanders, with an interactive data portal and different download functionalities:"
   ]
  },
  {
   "cell_type": "markdown",
   "metadata": {
    "slideshow": {
     "slide_type": "subslide"
    }
   },
   "source": [
    "![](../images/waterinfo_screenshot.png)"
   ]
  },
  {
   "cell_type": "markdown",
   "metadata": {
    "slideshow": {
     "slide_type": "slide"
    }
   },
   "source": [
    "To [download](https://www.waterinfo.be/) the dataset of interest the procedure is as follows:\n",
    "1. Go to `Maps and graphs` > `Download`\n",
    "2. In the section `1D Meteorological parameters`, select `Wind velocity`\n",
    "3. Select `Overpelt` and click `View and Download data`\n",
    "4. For both the `start date` and `end date`, click in the calender until you selected the required dates\n",
    "5. Click the right-top `download` icon, select `CSV` and click `download` again\n",
    "6. Provide a name for the data set and store the provided ZIP file\n",
    "7. Unzip to get the CSV data..."
   ]
  },
  {
   "cell_type": "markdown",
   "metadata": {
    "slideshow": {
     "slide_type": "subslide"
    }
   },
   "source": [
    "... which is OK if only one dataset needs to be downloaded. \n",
    "\n",
    "However, when different variables (e.g. wind speed), other locations or other time periods are required, the manual download procedure becomes rather tedious..."
   ]
  },
  {
   "cell_type": "markdown",
   "metadata": {
    "slideshow": {
     "slide_type": "fragment"
    }
   },
   "source": [
    "Hence to support (LifeWatch) researchers to get data from [waterinfo.be](https://www.waterinfo.be/), we developed an **R package**, called [wateRinfo](https://inbo.github.io/wateRinfo/index.html):"
   ]
  },
  {
   "cell_type": "markdown",
   "metadata": {
    "slideshow": {
     "slide_type": "slide"
    }
   },
   "source": [
    "![](../images/wateRinfo_printscreen.png)"
   ]
  },
  {
   "cell_type": "markdown",
   "metadata": {
    "slideshow": {
     "slide_type": "slide"
    }
   },
   "source": [
    "# DEMO wateRinfo "
   ]
  },
  {
   "cell_type": "markdown",
   "metadata": {
    "slideshow": {
     "slide_type": "slide"
    }
   },
   "source": [
    "## Installation"
   ]
  },
  {
   "cell_type": "raw",
   "metadata": {
    "slideshow": {
     "slide_type": "fragment"
    }
   },
   "source": [
    "# install.packages(\"devtools\")\n",
    "devtools::install_github(\"inbo/wateRinfo\")"
   ]
  },
  {
   "cell_type": "markdown",
   "metadata": {
    "slideshow": {
     "slide_type": "fragment"
    }
   },
   "source": [
    "Once installed, loading the functionalities is similar to any other R package:"
   ]
  },
  {
   "cell_type": "code",
   "execution_count": 2,
   "metadata": {
    "collapsed": true,
    "slideshow": {
     "slide_type": "fragment"
    }
   },
   "outputs": [],
   "source": [
    "library(wateRinfo)"
   ]
  },
  {
   "cell_type": "markdown",
   "metadata": {
    "slideshow": {
     "slide_type": "slide"
    }
   },
   "source": [
    "## Finding data"
   ]
  },
  {
   "cell_type": "markdown",
   "metadata": {
    "slideshow": {
     "slide_type": "fragment"
    }
   },
   "source": [
    "A number of variables are predefined. Use the command `supported_variables` for an overview, which can be provided in either English or Dutch:"
   ]
  },
  {
   "cell_type": "code",
   "execution_count": 3,
   "metadata": {
    "slideshow": {
     "slide_type": "subslide"
    }
   },
   "outputs": [
    {
     "data": {
      "text/html": [
       "<table>\n",
       "<thead><tr><th></th><th scope=col>variable_en</th></tr></thead>\n",
       "<tbody>\n",
       "\t<tr><th scope=row>1</th><td>discharge            </td></tr>\n",
       "\t<tr><th scope=row>6</th><td>soil_saturation      </td></tr>\n",
       "\t<tr><th scope=row>7</th><td>soil_moisture        </td></tr>\n",
       "\t<tr><th scope=row>8</th><td>dew_point_temperature</td></tr>\n",
       "\t<tr><th scope=row>9</th><td>ground_temperature   </td></tr>\n",
       "\t<tr><th scope=row>10</th><td>ground_heat          </td></tr>\n",
       "\t<tr><th scope=row>11</th><td>irradiance           </td></tr>\n",
       "\t<tr><th scope=row>12</th><td>air_pressure         </td></tr>\n",
       "\t<tr><th scope=row>13</th><td>air_temperature_175cm</td></tr>\n",
       "\t<tr><th scope=row>14</th><td>rainfall             </td></tr>\n",
       "\t<tr><th scope=row>20</th><td>relative_humidity    </td></tr>\n",
       "\t<tr><th scope=row>21</th><td>evaporation_monteith </td></tr>\n",
       "\t<tr><th scope=row>25</th><td>evaporation_penman   </td></tr>\n",
       "\t<tr><th scope=row>29</th><td>water_velocity       </td></tr>\n",
       "\t<tr><th scope=row>34</th><td>water_level          </td></tr>\n",
       "\t<tr><th scope=row>39</th><td>water_temperature    </td></tr>\n",
       "\t<tr><th scope=row>40</th><td>wind_direction       </td></tr>\n",
       "\t<tr><th scope=row>41</th><td>wind_speed           </td></tr>\n",
       "</tbody>\n",
       "</table>\n"
      ],
      "text/latex": [
       "\\begin{tabular}{r|l}\n",
       "  & variable\\_en\\\\\n",
       "\\hline\n",
       "\t1 & discharge            \\\\\n",
       "\t6 & soil\\_saturation      \\\\\n",
       "\t7 & soil\\_moisture        \\\\\n",
       "\t8 & dew\\_point\\_temperature\\\\\n",
       "\t9 & ground\\_temperature   \\\\\n",
       "\t10 & ground\\_heat          \\\\\n",
       "\t11 & irradiance           \\\\\n",
       "\t12 & air\\_pressure         \\\\\n",
       "\t13 & air\\_temperature\\_175cm\\\\\n",
       "\t14 & rainfall             \\\\\n",
       "\t20 & relative\\_humidity    \\\\\n",
       "\t21 & evaporation\\_monteith \\\\\n",
       "\t25 & evaporation\\_penman   \\\\\n",
       "\t29 & water\\_velocity       \\\\\n",
       "\t34 & water\\_level          \\\\\n",
       "\t39 & water\\_temperature    \\\\\n",
       "\t40 & wind\\_direction       \\\\\n",
       "\t41 & wind\\_speed           \\\\\n",
       "\\end{tabular}\n"
      ],
      "text/markdown": [
       "\n",
       "| <!--/--> | variable_en | \n",
       "|---|---|---|---|---|---|---|---|---|---|---|---|---|---|---|---|---|---|\n",
       "| 1 | discharge             | \n",
       "| 6 | soil_saturation       | \n",
       "| 7 | soil_moisture         | \n",
       "| 8 | dew_point_temperature | \n",
       "| 9 | ground_temperature    | \n",
       "| 10 | ground_heat           | \n",
       "| 11 | irradiance            | \n",
       "| 12 | air_pressure          | \n",
       "| 13 | air_temperature_175cm | \n",
       "| 14 | rainfall              | \n",
       "| 20 | relative_humidity     | \n",
       "| 21 | evaporation_monteith  | \n",
       "| 25 | evaporation_penman    | \n",
       "| 29 | water_velocity        | \n",
       "| 34 | water_level           | \n",
       "| 39 | water_temperature     | \n",
       "| 40 | wind_direction        | \n",
       "| 41 | wind_speed            | \n",
       "\n",
       "\n"
      ],
      "text/plain": [
       "   variable_en          \n",
       "1  discharge            \n",
       "6  soil_saturation      \n",
       "7  soil_moisture        \n",
       "8  dew_point_temperature\n",
       "9  ground_temperature   \n",
       "10 ground_heat          \n",
       "11 irradiance           \n",
       "12 air_pressure         \n",
       "13 air_temperature_175cm\n",
       "14 rainfall             \n",
       "20 relative_humidity    \n",
       "21 evaporation_monteith \n",
       "25 evaporation_penman   \n",
       "29 water_velocity       \n",
       "34 water_level          \n",
       "39 water_temperature    \n",
       "40 wind_direction       \n",
       "41 wind_speed           "
      ]
     },
     "metadata": {},
     "output_type": "display_data"
    }
   ],
   "source": [
    "supported_variables('en')"
   ]
  },
  {
   "cell_type": "markdown",
   "metadata": {
    "slideshow": {
     "slide_type": "slide"
    }
   },
   "source": [
    "**Wind speed** is one of the available variables. \n",
    "\n",
    "The next step is to find out the available stations for `Overpelt`. Use the command `get_stations` to find out the stations for a given variable:"
   ]
  },
  {
   "cell_type": "code",
   "execution_count": 4,
   "metadata": {
    "slideshow": {
     "slide_type": "subslide"
    }
   },
   "outputs": [
    {
     "data": {
      "text/html": [
       "<table>\n",
       "<thead><tr><th scope=col>ts_id</th><th scope=col>station_latitude</th><th scope=col>station_longitude</th><th scope=col>station_id</th><th scope=col>station_no</th><th scope=col>station_name</th><th scope=col>stationparameter_name</th><th scope=col>parametertype_name</th><th scope=col>ts_unitsymbol</th><th scope=col>dataprovider</th></tr></thead>\n",
       "<tbody>\n",
       "\t<tr><td>79226042               </td><td>50.86543               </td><td>4.707799               </td><td>32021                  </td><td>HIS_M08_045            </td><td>Heverlee_M             </td><td>WSpeed                 </td><td>U                      </td><td>m/s                    </td><td>VMM                    </td></tr>\n",
       "\t<tr><td>78653042               </td><td>51.16224               </td><td>4.845708               </td><td>12212                  </td><td>ME10_011               </td><td>Herentals_ME           </td><td>WSpeed                 </td><td>U                      </td><td>m/s                    </td><td>VMM                    </td></tr>\n",
       "\t<tr><td>79294042               </td><td>50.84753               </td><td>5.165932               </td><td>32033                  </td><td>HIS_M09_026            </td><td>Runkelen_M             </td><td>WSpeed                 </td><td>U                      </td><td>m/s                    </td><td>VMM                    </td></tr>\n",
       "\t<tr><td>78568042               </td><td>51.27226               </td><td>3.728299               </td><td>12207                  </td><td>ME03_017               </td><td>Boekhoute_ME           </td><td>WSpeed                 </td><td>U                      </td><td>m/s                    </td><td>VMM                    </td></tr>\n",
       "\t<tr><td>78636042               </td><td>50.73795               </td><td>5.141976               </td><td>12211                  </td><td>ME09_012               </td><td>Niel-bij-St.-Truiden_ME</td><td>WSpeed                 </td><td>U                      </td><td>m/s                    </td><td>VMM                    </td></tr>\n",
       "\t<tr><td>79345042               </td><td>50.90148               </td><td>5.456408               </td><td>32042                  </td><td>HIS_M09_035            </td><td>Beverst_M              </td><td>WSpeed                 </td><td>U                      </td><td>m/s                    </td><td>VMM                    </td></tr>\n",
       "\t<tr><td>78670042               </td><td>51.20300               </td><td>5.439589               </td><td>12213                  </td><td>ME11_002               </td><td>Overpelt_ME            </td><td>WSpeed                 </td><td>U                      </td><td>m/s                    </td><td>VMM                    </td></tr>\n",
       "\t<tr><td>79277042               </td><td>51.01085               </td><td>5.346698               </td><td>32030                  </td><td>HIS_M09_025            </td><td>Zonhoven_M             </td><td>WSpeed                 </td><td>U                      </td><td>m/s                    </td><td>VMM                    </td></tr>\n",
       "\t<tr><td>78551042               </td><td>51.02263               </td><td>2.970584               </td><td>12206                  </td><td>ME01_003               </td><td>Zarren_ME              </td><td>WSpeed                 </td><td>U                      </td><td>m/s                    </td><td>VMM                    </td></tr>\n",
       "\t<tr><td>78619042               </td><td>50.88663               </td><td>4.094898               </td><td>12210                  </td><td>ME07_006               </td><td>Liedekerke_ME          </td><td>WSpeed                 </td><td>U                      </td><td>m/s                    </td><td>VMM                    </td></tr>\n",
       "\t<tr><td>79328042               </td><td>51.05283               </td><td>5.125903               </td><td>32039                  </td><td>HIS_M09_034            </td><td>Tessenderlo_M          </td><td>WSpeed                 </td><td>U                      </td><td>m/s                    </td><td>VMM                    </td></tr>\n",
       "\t<tr><td>79260042               </td><td>50.96911               </td><td>5.163816               </td><td>32027                  </td><td>HIS_M09_016            </td><td>Linkhout_M             </td><td>WSpeed                 </td><td>U                      </td><td>m/s                    </td><td>VMM                    </td></tr>\n",
       "\t<tr><td>78602042               </td><td>50.86149               </td><td>3.411318               </td><td>12209                  </td><td>ME05_019               </td><td>Waregem_ME             </td><td>WSpeed                 </td><td>U                      </td><td>m/s                    </td><td>VMM                    </td></tr>\n",
       "\t<tr><td>79311042               </td><td>50.83409               </td><td>4.929836               </td><td>32036                  </td><td>HIS_M09_032            </td><td>Tienen_M               </td><td>WSpeed                 </td><td>U                      </td><td>m/s                    </td><td>VMM                    </td></tr>\n",
       "\t<tr><td>79243042               </td><td>50.80768               </td><td>4.576316               </td><td>32024                  </td><td>HIS_M08_046            </td><td>Neerijse_M             </td><td>WSpeed                 </td><td>U                      </td><td>m/s                    </td><td>VMM                    </td></tr>\n",
       "\t<tr><td>78585042               </td><td>51.24379               </td><td>4.266912               </td><td>12208                  </td><td>ME04_001               </td><td>Melsele_ME             </td><td>WSpeed                 </td><td>U                      </td><td>m/s                    </td><td>VMM                    </td></tr>\n",
       "</tbody>\n",
       "</table>\n"
      ],
      "text/latex": [
       "\\begin{tabular}{r|llllllllll}\n",
       " ts\\_id & station\\_latitude & station\\_longitude & station\\_id & station\\_no & station\\_name & stationparameter\\_name & parametertype\\_name & ts\\_unitsymbol & dataprovider\\\\\n",
       "\\hline\n",
       "\t 79226042                  & 50.86543                  & 4.707799                  & 32021                     & HIS\\_M08\\_045           & Heverlee\\_M              & WSpeed                    & U                         & m/s                       & VMM                      \\\\\n",
       "\t 78653042                  & 51.16224                  & 4.845708                  & 12212                     & ME10\\_011                & Herentals\\_ME            & WSpeed                    & U                         & m/s                       & VMM                      \\\\\n",
       "\t 79294042                  & 50.84753                  & 5.165932                  & 32033                     & HIS\\_M09\\_026           & Runkelen\\_M              & WSpeed                    & U                         & m/s                       & VMM                      \\\\\n",
       "\t 78568042                  & 51.27226                  & 3.728299                  & 12207                     & ME03\\_017                & Boekhoute\\_ME            & WSpeed                    & U                         & m/s                       & VMM                      \\\\\n",
       "\t 78636042                  & 50.73795                  & 5.141976                  & 12211                     & ME09\\_012                & Niel-bij-St.-Truiden\\_ME & WSpeed                    & U                         & m/s                       & VMM                      \\\\\n",
       "\t 79345042                  & 50.90148                  & 5.456408                  & 32042                     & HIS\\_M09\\_035           & Beverst\\_M               & WSpeed                    & U                         & m/s                       & VMM                      \\\\\n",
       "\t 78670042                  & 51.20300                  & 5.439589                  & 12213                     & ME11\\_002                & Overpelt\\_ME             & WSpeed                    & U                         & m/s                       & VMM                      \\\\\n",
       "\t 79277042                  & 51.01085                  & 5.346698                  & 32030                     & HIS\\_M09\\_025           & Zonhoven\\_M              & WSpeed                    & U                         & m/s                       & VMM                      \\\\\n",
       "\t 78551042                  & 51.02263                  & 2.970584                  & 12206                     & ME01\\_003                & Zarren\\_ME               & WSpeed                    & U                         & m/s                       & VMM                      \\\\\n",
       "\t 78619042                  & 50.88663                  & 4.094898                  & 12210                     & ME07\\_006                & Liedekerke\\_ME           & WSpeed                    & U                         & m/s                       & VMM                      \\\\\n",
       "\t 79328042                  & 51.05283                  & 5.125903                  & 32039                     & HIS\\_M09\\_034           & Tessenderlo\\_M           & WSpeed                    & U                         & m/s                       & VMM                      \\\\\n",
       "\t 79260042                  & 50.96911                  & 5.163816                  & 32027                     & HIS\\_M09\\_016           & Linkhout\\_M              & WSpeed                    & U                         & m/s                       & VMM                      \\\\\n",
       "\t 78602042                  & 50.86149                  & 3.411318                  & 12209                     & ME05\\_019                & Waregem\\_ME              & WSpeed                    & U                         & m/s                       & VMM                      \\\\\n",
       "\t 79311042                  & 50.83409                  & 4.929836                  & 32036                     & HIS\\_M09\\_032           & Tienen\\_M                & WSpeed                    & U                         & m/s                       & VMM                      \\\\\n",
       "\t 79243042                  & 50.80768                  & 4.576316                  & 32024                     & HIS\\_M08\\_046           & Neerijse\\_M              & WSpeed                    & U                         & m/s                       & VMM                      \\\\\n",
       "\t 78585042                  & 51.24379                  & 4.266912                  & 12208                     & ME04\\_001                & Melsele\\_ME              & WSpeed                    & U                         & m/s                       & VMM                      \\\\\n",
       "\\end{tabular}\n"
      ],
      "text/markdown": [
       "\n",
       "ts_id | station_latitude | station_longitude | station_id | station_no | station_name | stationparameter_name | parametertype_name | ts_unitsymbol | dataprovider | \n",
       "|---|---|---|---|---|---|---|---|---|---|---|---|---|---|---|---|\n",
       "| 79226042                | 50.86543                | 4.707799                | 32021                   | HIS_M08_045             | Heverlee_M              | WSpeed                  | U                       | m/s                     | VMM                     | \n",
       "| 78653042                | 51.16224                | 4.845708                | 12212                   | ME10_011                | Herentals_ME            | WSpeed                  | U                       | m/s                     | VMM                     | \n",
       "| 79294042                | 50.84753                | 5.165932                | 32033                   | HIS_M09_026             | Runkelen_M              | WSpeed                  | U                       | m/s                     | VMM                     | \n",
       "| 78568042                | 51.27226                | 3.728299                | 12207                   | ME03_017                | Boekhoute_ME            | WSpeed                  | U                       | m/s                     | VMM                     | \n",
       "| 78636042                | 50.73795                | 5.141976                | 12211                   | ME09_012                | Niel-bij-St.-Truiden_ME | WSpeed                  | U                       | m/s                     | VMM                     | \n",
       "| 79345042                | 50.90148                | 5.456408                | 32042                   | HIS_M09_035             | Beverst_M               | WSpeed                  | U                       | m/s                     | VMM                     | \n",
       "| 78670042                | 51.20300                | 5.439589                | 12213                   | ME11_002                | Overpelt_ME             | WSpeed                  | U                       | m/s                     | VMM                     | \n",
       "| 79277042                | 51.01085                | 5.346698                | 32030                   | HIS_M09_025             | Zonhoven_M              | WSpeed                  | U                       | m/s                     | VMM                     | \n",
       "| 78551042                | 51.02263                | 2.970584                | 12206                   | ME01_003                | Zarren_ME               | WSpeed                  | U                       | m/s                     | VMM                     | \n",
       "| 78619042                | 50.88663                | 4.094898                | 12210                   | ME07_006                | Liedekerke_ME           | WSpeed                  | U                       | m/s                     | VMM                     | \n",
       "| 79328042                | 51.05283                | 5.125903                | 32039                   | HIS_M09_034             | Tessenderlo_M           | WSpeed                  | U                       | m/s                     | VMM                     | \n",
       "| 79260042                | 50.96911                | 5.163816                | 32027                   | HIS_M09_016             | Linkhout_M              | WSpeed                  | U                       | m/s                     | VMM                     | \n",
       "| 78602042                | 50.86149                | 3.411318                | 12209                   | ME05_019                | Waregem_ME              | WSpeed                  | U                       | m/s                     | VMM                     | \n",
       "| 79311042                | 50.83409                | 4.929836                | 32036                   | HIS_M09_032             | Tienen_M                | WSpeed                  | U                       | m/s                     | VMM                     | \n",
       "| 79243042                | 50.80768                | 4.576316                | 32024                   | HIS_M08_046             | Neerijse_M              | WSpeed                  | U                       | m/s                     | VMM                     | \n",
       "| 78585042                | 51.24379                | 4.266912                | 12208                   | ME04_001                | Melsele_ME              | WSpeed                  | U                       | m/s                     | VMM                     | \n",
       "\n",
       "\n"
      ],
      "text/plain": [
       "   ts_id    station_latitude station_longitude station_id station_no \n",
       "1  79226042 50.86543         4.707799          32021      HIS_M08_045\n",
       "2  78653042 51.16224         4.845708          12212      ME10_011   \n",
       "3  79294042 50.84753         5.165932          32033      HIS_M09_026\n",
       "4  78568042 51.27226         3.728299          12207      ME03_017   \n",
       "5  78636042 50.73795         5.141976          12211      ME09_012   \n",
       "6  79345042 50.90148         5.456408          32042      HIS_M09_035\n",
       "7  78670042 51.20300         5.439589          12213      ME11_002   \n",
       "8  79277042 51.01085         5.346698          32030      HIS_M09_025\n",
       "9  78551042 51.02263         2.970584          12206      ME01_003   \n",
       "10 78619042 50.88663         4.094898          12210      ME07_006   \n",
       "11 79328042 51.05283         5.125903          32039      HIS_M09_034\n",
       "12 79260042 50.96911         5.163816          32027      HIS_M09_016\n",
       "13 78602042 50.86149         3.411318          12209      ME05_019   \n",
       "14 79311042 50.83409         4.929836          32036      HIS_M09_032\n",
       "15 79243042 50.80768         4.576316          32024      HIS_M08_046\n",
       "16 78585042 51.24379         4.266912          12208      ME04_001   \n",
       "   station_name            stationparameter_name parametertype_name\n",
       "1  Heverlee_M              WSpeed                U                 \n",
       "2  Herentals_ME            WSpeed                U                 \n",
       "3  Runkelen_M              WSpeed                U                 \n",
       "4  Boekhoute_ME            WSpeed                U                 \n",
       "5  Niel-bij-St.-Truiden_ME WSpeed                U                 \n",
       "6  Beverst_M               WSpeed                U                 \n",
       "7  Overpelt_ME             WSpeed                U                 \n",
       "8  Zonhoven_M              WSpeed                U                 \n",
       "9  Zarren_ME               WSpeed                U                 \n",
       "10 Liedekerke_ME           WSpeed                U                 \n",
       "11 Tessenderlo_M           WSpeed                U                 \n",
       "12 Linkhout_M              WSpeed                U                 \n",
       "13 Waregem_ME              WSpeed                U                 \n",
       "14 Tienen_M                WSpeed                U                 \n",
       "15 Neerijse_M              WSpeed                U                 \n",
       "16 Melsele_ME              WSpeed                U                 \n",
       "   ts_unitsymbol dataprovider\n",
       "1  m/s           VMM         \n",
       "2  m/s           VMM         \n",
       "3  m/s           VMM         \n",
       "4  m/s           VMM         \n",
       "5  m/s           VMM         \n",
       "6  m/s           VMM         \n",
       "7  m/s           VMM         \n",
       "8  m/s           VMM         \n",
       "9  m/s           VMM         \n",
       "10 m/s           VMM         \n",
       "11 m/s           VMM         \n",
       "12 m/s           VMM         \n",
       "13 m/s           VMM         \n",
       "14 m/s           VMM         \n",
       "15 m/s           VMM         \n",
       "16 m/s           VMM         "
      ]
     },
     "metadata": {},
     "output_type": "display_data"
    }
   ],
   "source": [
    "get_stations('wind_speed')"
   ]
  },
  {
   "cell_type": "markdown",
   "metadata": {
    "slideshow": {
     "slide_type": "slide"
    }
   },
   "source": [
    "## Downloading data"
   ]
  },
  {
   "cell_type": "markdown",
   "metadata": {
    "slideshow": {
     "slide_type": "fragment"
    }
   },
   "source": [
    "Downloads are always based on an identifier, `ts_id`. \n",
    "\n",
    "By providing the proper `ts_id` (corresponding to wind speed data from Overpelt) to the download function `get_timeseries_tsid`, we can request the data series. The `ts_id` is `78670042`:"
   ]
  },
  {
   "cell_type": "code",
   "execution_count": 7,
   "metadata": {
    "slideshow": {
     "slide_type": "subslide"
    }
   },
   "outputs": [
    {
     "data": {
      "text/html": [
       "<table>\n",
       "<thead><tr><th scope=col>Timestamp</th><th scope=col>Value</th><th scope=col>Quality Code</th></tr></thead>\n",
       "<tbody>\n",
       "\t<tr><td>2017-10-01 00:00:00</td><td>0.58               </td><td>130                </td></tr>\n",
       "\t<tr><td>2017-10-01 00:15:00</td><td>0.82               </td><td>130                </td></tr>\n",
       "\t<tr><td>2017-10-01 00:30:00</td><td>0.58               </td><td>130                </td></tr>\n",
       "\t<tr><td>2017-10-01 00:45:00</td><td>0.70               </td><td>130                </td></tr>\n",
       "\t<tr><td>2017-10-01 01:00:00</td><td>0.64               </td><td>130                </td></tr>\n",
       "\t<tr><td>2017-10-01 01:15:00</td><td>0.56               </td><td>130                </td></tr>\n",
       "</tbody>\n",
       "</table>\n"
      ],
      "text/latex": [
       "\\begin{tabular}{r|lll}\n",
       " Timestamp & Value & Quality Code\\\\\n",
       "\\hline\n",
       "\t 2017-10-01 00:00:00 & 0.58                & 130                \\\\\n",
       "\t 2017-10-01 00:15:00 & 0.82                & 130                \\\\\n",
       "\t 2017-10-01 00:30:00 & 0.58                & 130                \\\\\n",
       "\t 2017-10-01 00:45:00 & 0.70                & 130                \\\\\n",
       "\t 2017-10-01 01:00:00 & 0.64                & 130                \\\\\n",
       "\t 2017-10-01 01:15:00 & 0.56                & 130                \\\\\n",
       "\\end{tabular}\n"
      ],
      "text/markdown": [
       "\n",
       "Timestamp | Value | Quality Code | \n",
       "|---|---|---|---|---|---|\n",
       "| 2017-10-01 00:00:00 | 0.58                | 130                 | \n",
       "| 2017-10-01 00:15:00 | 0.82                | 130                 | \n",
       "| 2017-10-01 00:30:00 | 0.58                | 130                 | \n",
       "| 2017-10-01 00:45:00 | 0.70                | 130                 | \n",
       "| 2017-10-01 01:00:00 | 0.64                | 130                 | \n",
       "| 2017-10-01 01:15:00 | 0.56                | 130                 | \n",
       "\n",
       "\n"
      ],
      "text/plain": [
       "  Timestamp           Value Quality Code\n",
       "1 2017-10-01 00:00:00 0.58  130         \n",
       "2 2017-10-01 00:15:00 0.82  130         \n",
       "3 2017-10-01 00:30:00 0.58  130         \n",
       "4 2017-10-01 00:45:00 0.70  130         \n",
       "5 2017-10-01 01:00:00 0.64  130         \n",
       "6 2017-10-01 01:15:00 0.56  130         "
      ]
     },
     "metadata": {},
     "output_type": "display_data"
    }
   ],
   "source": [
    "wind_speed <- get_timeseries_tsid(\"78670042\", \n",
    "                                  from = \"2017-10-01\",\n",
    "                                  to = \"2017-11-30\")\n",
    "head(wind_speed)"
   ]
  },
  {
   "cell_type": "markdown",
   "metadata": {
    "slideshow": {
     "slide_type": "slide"
    }
   },
   "source": [
    "## Using the data in R and beyond..."
   ]
  },
  {
   "cell_type": "markdown",
   "metadata": {
    "slideshow": {
     "slide_type": "fragment"
    }
   },
   "source": [
    "As the output is a `data.frame`, the data can be used and analysed directly in R:"
   ]
  },
  {
   "cell_type": "code",
   "execution_count": 8,
   "metadata": {
    "collapsed": true,
    "slideshow": {
     "slide_type": "skip"
    }
   },
   "outputs": [],
   "source": [
    "options(repr.plot.width=6, repr.plot.height=4)"
   ]
  },
  {
   "cell_type": "code",
   "execution_count": 10,
   "metadata": {
    "slideshow": {
     "slide_type": "subslide"
    }
   },
   "outputs": [
    {
     "data": {},
     "metadata": {},
     "output_type": "display_data"
    },
    {
     "data": {
      "image/png": "[encoded data removed]",
      "text/plain": [
       "plot without title"
      ]
     },
     "metadata": {},
     "output_type": "display_data"
    }
   ],
   "source": [
    "library(ggplot2)\n",
    "ggplot(wind_speed, aes(x = Timestamp, y = Value)) + \n",
    "    geom_line() + \n",
    "    xlab(\"\") + ylab(\"wind speed\")"
   ]
  },
  {
   "cell_type": "code",
   "execution_count": 6,
   "metadata": {
    "collapsed": true,
    "slideshow": {
     "slide_type": "fragment"
    }
   },
   "outputs": [],
   "source": [
    "write.csv(wind_speed, \"overpelt_wind_speed_20171001_20171130.csv\")"
   ]
  },
  {
   "cell_type": "markdown",
   "metadata": {
    "slideshow": {
     "slide_type": "slide"
    }
   },
   "source": [
    "# Extension: I'd like a wind rose!"
   ]
  },
  {
   "cell_type": "markdown",
   "metadata": {
    "slideshow": {
     "slide_type": "fragment"
    }
   },
   "source": [
    "Visualizing wind data is most useful as a wind rose. Let's download the wind direction data as well to combine both in a single figure, using the existing functionality [described here](https://rpubs.com/mariner610/windrose)."
   ]
  },
  {
   "cell_type": "markdown",
   "metadata": {
    "slideshow": {
     "slide_type": "skip"
    }
   },
   "source": [
    "First, load some additional packages:"
   ]
  },
  {
   "cell_type": "code",
   "execution_count": 22,
   "metadata": {
    "slideshow": {
     "slide_type": "skip"
    }
   },
   "outputs": [],
   "source": [
    "library(dplyr)\n",
    "library(ggplot2)\n",
    "library(RColorBrewer)"
   ]
  },
  {
   "cell_type": "markdown",
   "metadata": {
    "slideshow": {
     "slide_type": "slide"
    }
   },
   "source": [
    "With the help of the [tidyverse](https://www.tidyverse.org/) packages, we can combine the statements above to download the wind direction data:"
   ]
  },
  {
   "cell_type": "code",
   "execution_count": 23,
   "metadata": {
    "collapsed": true
   },
   "outputs": [],
   "source": [
    "wind_direction <- get_stations('wind_direction') %>% \n",
    "    filter(station_name == \"Overpelt_ME\") %>%\n",
    "    select(ts_id) %>%\n",
    "    get_timeseries_tsid(from = \"2017-10-01\", \n",
    "                        to = \"2017-11-30\") %>%\n",
    "    rename(wind_direction = Value)"
   ]
  },
  {
   "cell_type": "code",
   "execution_count": 24,
   "metadata": {
    "slideshow": {
     "slide_type": "subslide"
    }
   },
   "outputs": [
    {
     "data": {
      "text/html": [
       "<table>\n",
       "<thead><tr><th scope=col>Timestamp</th><th scope=col>wind_direction</th><th scope=col>Quality Code</th></tr></thead>\n",
       "<tbody>\n",
       "\t<tr><td>2017-10-01 00:00:00</td><td> 91                </td><td>130                </td></tr>\n",
       "\t<tr><td>2017-10-01 00:15:00</td><td>110                </td><td>130                </td></tr>\n",
       "\t<tr><td>2017-10-01 00:30:00</td><td>119                </td><td>130                </td></tr>\n",
       "\t<tr><td>2017-10-01 00:45:00</td><td>134                </td><td>130                </td></tr>\n",
       "\t<tr><td>2017-10-01 01:00:00</td><td>124                </td><td>130                </td></tr>\n",
       "\t<tr><td>2017-10-01 01:15:00</td><td>106                </td><td>130                </td></tr>\n",
       "</tbody>\n",
       "</table>\n"
      ],
      "text/latex": [
       "\\begin{tabular}{r|lll}\n",
       " Timestamp & wind\\_direction & Quality Code\\\\\n",
       "\\hline\n",
       "\t 2017-10-01 00:00:00 &  91                 & 130                \\\\\n",
       "\t 2017-10-01 00:15:00 & 110                 & 130                \\\\\n",
       "\t 2017-10-01 00:30:00 & 119                 & 130                \\\\\n",
       "\t 2017-10-01 00:45:00 & 134                 & 130                \\\\\n",
       "\t 2017-10-01 01:00:00 & 124                 & 130                \\\\\n",
       "\t 2017-10-01 01:15:00 & 106                 & 130                \\\\\n",
       "\\end{tabular}\n"
      ],
      "text/markdown": [
       "\n",
       "Timestamp | wind_direction | Quality Code | \n",
       "|---|---|---|---|---|---|\n",
       "| 2017-10-01 00:00:00 |  91                 | 130                 | \n",
       "| 2017-10-01 00:15:00 | 110                 | 130                 | \n",
       "| 2017-10-01 00:30:00 | 119                 | 130                 | \n",
       "| 2017-10-01 00:45:00 | 134                 | 130                 | \n",
       "| 2017-10-01 01:00:00 | 124                 | 130                 | \n",
       "| 2017-10-01 01:15:00 | 106                 | 130                 | \n",
       "\n",
       "\n"
      ],
      "text/plain": [
       "  Timestamp           wind_direction Quality Code\n",
       "1 2017-10-01 00:00:00  91            130         \n",
       "2 2017-10-01 00:15:00 110            130         \n",
       "3 2017-10-01 00:30:00 119            130         \n",
       "4 2017-10-01 00:45:00 134            130         \n",
       "5 2017-10-01 01:00:00 124            130         \n",
       "6 2017-10-01 01:15:00 106            130         "
      ]
     },
     "metadata": {},
     "output_type": "display_data"
    }
   ],
   "source": [
    "head(wind_direction)"
   ]
  },
  {
   "cell_type": "markdown",
   "metadata": {
    "slideshow": {
     "slide_type": "skip"
    }
   },
   "source": [
    "Rename the `Value` column of the `wind_speed` as well to have better column names:"
   ]
  },
  {
   "cell_type": "code",
   "execution_count": 15,
   "metadata": {
    "collapsed": true,
    "slideshow": {
     "slide_type": "skip"
    }
   },
   "outputs": [],
   "source": [
    "wind_speed <- wind_speed %>% \n",
    "    rename(wind_speed = Value)"
   ]
  },
  {
   "cell_type": "markdown",
   "metadata": {
    "slideshow": {
     "slide_type": "subslide"
    }
   },
   "source": [
    "Combining both data frames:"
   ]
  },
  {
   "cell_type": "code",
   "execution_count": 25,
   "metadata": {
    "slideshow": {
     "slide_type": "fragment"
    }
   },
   "outputs": [
    {
     "data": {
      "text/html": [
       "<table>\n",
       "<thead><tr><th scope=col>Timestamp</th><th scope=col>wind_speed</th><th scope=col>wind_direction</th></tr></thead>\n",
       "<tbody>\n",
       "\t<tr><td>2017-10-01 00:00:00</td><td>0.58               </td><td> 91                </td></tr>\n",
       "\t<tr><td>2017-10-01 00:15:00</td><td>0.82               </td><td>110                </td></tr>\n",
       "\t<tr><td>2017-10-01 00:30:00</td><td>0.58               </td><td>119                </td></tr>\n",
       "\t<tr><td>2017-10-01 00:45:00</td><td>0.70               </td><td>134                </td></tr>\n",
       "\t<tr><td>2017-10-01 01:00:00</td><td>0.64               </td><td>124                </td></tr>\n",
       "\t<tr><td>2017-10-01 01:15:00</td><td>0.56               </td><td>106                </td></tr>\n",
       "</tbody>\n",
       "</table>\n"
      ],
      "text/latex": [
       "\\begin{tabular}{r|lll}\n",
       " Timestamp & wind\\_speed & wind\\_direction\\\\\n",
       "\\hline\n",
       "\t 2017-10-01 00:00:00 & 0.58                &  91                \\\\\n",
       "\t 2017-10-01 00:15:00 & 0.82                & 110                \\\\\n",
       "\t 2017-10-01 00:30:00 & 0.58                & 119                \\\\\n",
       "\t 2017-10-01 00:45:00 & 0.70                & 134                \\\\\n",
       "\t 2017-10-01 01:00:00 & 0.64                & 124                \\\\\n",
       "\t 2017-10-01 01:15:00 & 0.56                & 106                \\\\\n",
       "\\end{tabular}\n"
      ],
      "text/markdown": [
       "\n",
       "Timestamp | wind_speed | wind_direction | \n",
       "|---|---|---|---|---|---|\n",
       "| 2017-10-01 00:00:00 | 0.58                |  91                 | \n",
       "| 2017-10-01 00:15:00 | 0.82                | 110                 | \n",
       "| 2017-10-01 00:30:00 | 0.58                | 119                 | \n",
       "| 2017-10-01 00:45:00 | 0.70                | 134                 | \n",
       "| 2017-10-01 01:00:00 | 0.64                | 124                 | \n",
       "| 2017-10-01 01:15:00 | 0.56                | 106                 | \n",
       "\n",
       "\n"
      ],
      "text/plain": [
       "  Timestamp           wind_speed wind_direction\n",
       "1 2017-10-01 00:00:00 0.58        91           \n",
       "2 2017-10-01 00:15:00 0.82       110           \n",
       "3 2017-10-01 00:30:00 0.58       119           \n",
       "4 2017-10-01 00:45:00 0.70       134           \n",
       "5 2017-10-01 01:00:00 0.64       124           \n",
       "6 2017-10-01 01:15:00 0.56       106           "
      ]
     },
     "metadata": {},
     "output_type": "display_data"
    }
   ],
   "source": [
    "wind_data <- bind_cols(wind_speed, wind_direction) %>%\n",
    "    select(Timestamp, wind_speed, wind_direction)\n",
    "head(wind_data)"
   ]
  },
  {
   "cell_type": "markdown",
   "metadata": {
    "slideshow": {
     "slide_type": "slide"
    }
   },
   "source": [
    "The function to make wind roses with `ggplot` is provided in an additional file `wind_rose.R`:"
   ]
  },
  {
   "cell_type": "code",
   "execution_count": 26,
   "metadata": {
    "collapsed": true,
    "slideshow": {
     "slide_type": "fragment"
    }
   },
   "outputs": [],
   "source": [
    "source(\"./wind_rose.R\")"
   ]
  },
  {
   "cell_type": "markdown",
   "metadata": {
    "slideshow": {
     "slide_type": "skip"
    }
   },
   "source": [
    "Applying the function to the downloaded dataset:"
   ]
  },
  {
   "cell_type": "code",
   "execution_count": 27,
   "metadata": {
    "slideshow": {
     "slide_type": "subslide"
    }
   },
   "outputs": [
    {
     "data": {},
     "metadata": {},
     "output_type": "display_data"
    },
    {
     "data": {
      "image/png": "[encoded data removed]",
      "text/plain": [
       "plot without title"
      ]
     },
     "metadata": {},
     "output_type": "display_data"
    }
   ],
   "source": [
    "wind_data %>% \n",
    "    na.omit() %>%\n",
    "    plot.windrose(\"wind_speed\", \"wind_direction\",\n",
    "                  spdmin = 0, spdmax = 10)"
   ]
  },
  {
   "cell_type": "markdown",
   "metadata": {
    "slideshow": {
     "slide_type": "skip"
    }
   },
   "source": [
    "And there we have the wind rose data from our measurement campaign in Overpelt!"
   ]
  },
  {
   "cell_type": "markdown",
   "metadata": {
    "slideshow": {
     "slide_type": "slide"
    }
   },
   "source": [
    "# More information about wateRinfo?"
   ]
  },
  {
   "cell_type": "markdown",
   "metadata": {
    "slideshow": {
     "slide_type": "fragment"
    }
   },
   "source": [
    "Curious about:\n",
    "* downloading other variables?\n",
    "* combining multiple downloads as a batch download?\n",
    "* alternative ways of defining the date periods?\n",
    "\n",
    "Check the documentation at: https://inbo.github.io/wateRinfo/"
   ]
  }
 ],
 "metadata": {
  "celltoolbar": "Slideshow",
  "kernelspec": {
   "display_name": "R",
   "language": "R",
   "name": "ir"
  },
  "language_info": {
   "codemirror_mode": "r",
   "file_extension": ".r",
   "mimetype": "text/x-r-source",
   "name": "R",
   "pygments_lexer": "r",
   "version": "3.4.2"
  }
 },
 "nbformat": 4,
 "nbformat_minor": 2
}
